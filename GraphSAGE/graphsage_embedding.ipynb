{
 "cells": [
  {
   "cell_type": "markdown",
   "id": "7c3b837a",
   "metadata": {
    "papermill": {
     "duration": 0.003685,
     "end_time": "2025-05-24T04:06:23.631220",
     "exception": false,
     "start_time": "2025-05-24T04:06:23.627535",
     "status": "completed"
    },
    "tags": []
   },
   "source": [
    "# Install Library ====================="
   ]
  },
  {
   "cell_type": "code",
   "execution_count": 1,
   "id": "7594c5ed",
   "metadata": {
    "_cell_guid": "b1076dfc-b9ad-4769-8c92-a6c4dae69d19",
    "_uuid": "8f2839f25d086af736a60e9eeb907d3b93b6e0e5",
    "execution": {
     "iopub.execute_input": "2025-05-24T04:06:23.638147Z",
     "iopub.status.busy": "2025-05-24T04:06:23.637934Z",
     "iopub.status.idle": "2025-05-24T04:06:33.896473Z",
     "shell.execute_reply": "2025-05-24T04:06:33.895539Z"
    },
    "papermill": {
     "duration": 10.263558,
     "end_time": "2025-05-24T04:06:33.897983",
     "exception": false,
     "start_time": "2025-05-24T04:06:23.634425",
     "status": "completed"
    },
    "tags": []
   },
   "outputs": [
    {
     "name": "stdout",
     "output_type": "stream",
     "text": [
      "\u001b[2K     \u001b[90m━━━━━━━━━━━━━━━━━━━━━━━━━━━━━━━━━━━━━━━━\u001b[0m \u001b[32m10.2/10.2 MB\u001b[0m \u001b[31m47.9 MB/s\u001b[0m eta \u001b[36m0:00:00\u001b[0m\r\n",
      "\u001b[2K     \u001b[90m━━━━━━━━━━━━━━━━━━━━━━━━━━━━━━━━━━━━━━━━\u001b[0m \u001b[32m4.9/4.9 MB\u001b[0m \u001b[31m31.2 MB/s\u001b[0m eta \u001b[36m0:00:00\u001b[0m\r\n",
      "\u001b[2K     \u001b[90m━━━━━━━━━━━━━━━━━━━━━━━━━━━━━━━━━━━━━━━━\u001b[0m \u001b[32m3.3/3.3 MB\u001b[0m \u001b[31m35.5 MB/s\u001b[0m eta \u001b[36m0:00:00\u001b[0m\r\n",
      "\u001b[2K     \u001b[90m━━━━━━━━━━━━━━━━━━━━━━━━━━━━━━━━━━━━━━━━\u001b[0m \u001b[32m891.8/891.8 kB\u001b[0m \u001b[31m22.5 MB/s\u001b[0m eta \u001b[36m0:00:00\u001b[0m\r\n",
      "\u001b[2K     \u001b[90m━━━━━━━━━━━━━━━━━━━━━━━━━━━━━━━━━━━━━━━━\u001b[0m \u001b[32m2.6/2.6 MB\u001b[0m \u001b[31m20.1 MB/s\u001b[0m eta \u001b[36m0:00:00\u001b[0m\r\n",
      "\u001b[2K     \u001b[90m━━━━━━━━━━━━━━━━━━━━━━━━━━━━━━━━━━━━━━━━\u001b[0m \u001b[32m63.1/63.1 kB\u001b[0m \u001b[31m2.7 MB/s\u001b[0m eta \u001b[36m0:00:00\u001b[0m\r\n",
      "\u001b[2K   \u001b[90m━━━━━━━━━━━━━━━━━━━━━━━━━━━━━━━━━━━━━━━━\u001b[0m \u001b[32m1.1/1.1 MB\u001b[0m \u001b[31m21.7 MB/s\u001b[0m eta \u001b[36m0:00:00\u001b[0m\r\n",
      "\u001b[?25h"
     ]
    }
   ],
   "source": [
    "!pip install -q torch-scatter torch-sparse torch-cluster torch-spline-conv pyg-lib \\\n",
    "  -f https://data.pyg.org/whl/torch-2.1.0+cu118.html\n",
    "!pip install -q torch-geometric\n"
   ]
  },
  {
   "cell_type": "markdown",
   "id": "0a16c2f7",
   "metadata": {
    "papermill": {
     "duration": 0.003596,
     "end_time": "2025-05-24T04:06:33.906065",
     "exception": false,
     "start_time": "2025-05-24T04:06:33.902469",
     "status": "completed"
    },
    "tags": []
   },
   "source": [
    "# Import Lib ======================="
   ]
  },
  {
   "cell_type": "code",
   "execution_count": 2,
   "id": "66936ec4",
   "metadata": {
    "execution": {
     "iopub.execute_input": "2025-05-24T04:06:33.914688Z",
     "iopub.status.busy": "2025-05-24T04:06:33.914445Z",
     "iopub.status.idle": "2025-05-24T04:06:46.614775Z",
     "shell.execute_reply": "2025-05-24T04:06:46.614141Z"
    },
    "papermill": {
     "duration": 12.706273,
     "end_time": "2025-05-24T04:06:46.616081",
     "exception": false,
     "start_time": "2025-05-24T04:06:33.909808",
     "status": "completed"
    },
    "tags": []
   },
   "outputs": [
    {
     "name": "stderr",
     "output_type": "stream",
     "text": [
      "/usr/local/lib/python3.11/dist-packages/torch_geometric/typing.py:68: UserWarning: An issue occurred while importing 'pyg-lib'. Disabling its usage. Stacktrace: libcudart.so.11.0: cannot open shared object file: No such file or directory\n",
      "  warnings.warn(f\"An issue occurred while importing 'pyg-lib'. \"\n",
      "/usr/local/lib/python3.11/dist-packages/torch_geometric/typing.py:86: UserWarning: An issue occurred while importing 'torch-scatter'. Disabling its usage. Stacktrace: /usr/local/lib/python3.11/dist-packages/torch_scatter/_version_cuda.so: undefined symbol: _ZN3c1017RegisterOperatorsD1Ev\n",
      "  warnings.warn(f\"An issue occurred while importing 'torch-scatter'. \"\n",
      "/usr/local/lib/python3.11/dist-packages/torch_geometric/typing.py:97: UserWarning: An issue occurred while importing 'torch-cluster'. Disabling its usage. Stacktrace: /usr/local/lib/python3.11/dist-packages/torch_cluster/_version_cuda.so: undefined symbol: _ZN3c1017RegisterOperatorsD1Ev\n",
      "  warnings.warn(f\"An issue occurred while importing 'torch-cluster'. \"\n",
      "/usr/local/lib/python3.11/dist-packages/torch_geometric/typing.py:113: UserWarning: An issue occurred while importing 'torch-spline-conv'. Disabling its usage. Stacktrace: /usr/local/lib/python3.11/dist-packages/torch_spline_conv/_version_cuda.so: undefined symbol: _ZN3c1017RegisterOperatorsD1Ev\n",
      "  warnings.warn(\n",
      "/usr/local/lib/python3.11/dist-packages/torch_geometric/typing.py:124: UserWarning: An issue occurred while importing 'torch-sparse'. Disabling its usage. Stacktrace: /usr/local/lib/python3.11/dist-packages/torch_sparse/_version_cuda.so: undefined symbol: _ZN3c1017RegisterOperatorsD1Ev\n",
      "  warnings.warn(f\"An issue occurred while importing 'torch-sparse'. \"\n"
     ]
    }
   ],
   "source": [
    "import torch\n",
    "import torch.nn.functional as F\n",
    "import numpy as np\n",
    "import pandas as pd\n",
    "from torch_geometric.data import Data\n",
    "from torch_geometric.nn import SAGEConv\n",
    "from torch_geometric.utils import negative_sampling, train_test_split_edges\n",
    "from sklearn.metrics import roc_auc_score, average_precision_score"
   ]
  },
  {
   "cell_type": "markdown",
   "id": "c7737651",
   "metadata": {
    "papermill": {
     "duration": 0.003683,
     "end_time": "2025-05-24T04:06:46.624036",
     "exception": false,
     "start_time": "2025-05-24T04:06:46.620353",
     "status": "completed"
    },
    "tags": []
   },
   "source": [
    "# Load data from Cit-HepTh.txt ========="
   ]
  },
  {
   "cell_type": "code",
   "execution_count": 3,
   "id": "b6307fd2",
   "metadata": {
    "execution": {
     "iopub.execute_input": "2025-05-24T04:06:46.632600Z",
     "iopub.status.busy": "2025-05-24T04:06:46.632235Z",
     "iopub.status.idle": "2025-05-24T04:06:46.637853Z",
     "shell.execute_reply": "2025-05-24T04:06:46.637152Z"
    },
    "papermill": {
     "duration": 0.011073,
     "end_time": "2025-05-24T04:06:46.638844",
     "exception": false,
     "start_time": "2025-05-24T04:06:46.627771",
     "status": "completed"
    },
    "tags": []
   },
   "outputs": [],
   "source": [
    "def load_edge_index_from_txt(path):\n",
    "    edge_list = []\n",
    "    with open(path, 'r') as f:\n",
    "        for line in f:\n",
    "            if line.startswith('#'):\n",
    "                continue\n",
    "            src, dst = map(int, line.strip().split())\n",
    "            edge_list.append((src, dst))\n",
    "    \n",
    "    node_set = set([n for edge in edge_list for n in edge])\n",
    "    node_id_map = {nid: i for i, nid in enumerate(sorted(node_set))}\n",
    "    \n",
    "    edges = [(node_id_map[src], node_id_map[dst]) for src, dst in edge_list]\n",
    "    edge_index = torch.tensor(edges, dtype=torch.long).t().contiguous()\n",
    "    return edge_index, node_id_map"
   ]
  },
  {
   "cell_type": "code",
   "execution_count": 4,
   "id": "3cb16747",
   "metadata": {
    "execution": {
     "iopub.execute_input": "2025-05-24T04:06:46.647254Z",
     "iopub.status.busy": "2025-05-24T04:06:46.646779Z",
     "iopub.status.idle": "2025-05-24T04:06:47.204958Z",
     "shell.execute_reply": "2025-05-24T04:06:47.204395Z"
    },
    "papermill": {
     "duration": 0.563687,
     "end_time": "2025-05-24T04:06:47.206271",
     "exception": false,
     "start_time": "2025-05-24T04:06:46.642584",
     "status": "completed"
    },
    "tags": []
   },
   "outputs": [],
   "source": [
    "edge_index, node_id_map = load_edge_index_from_txt(\"/kaggle/input/cit-hep/Cit-HepTh.txt\")\n",
    "num_nodes = len(node_id_map)\n",
    "x = torch.randn((num_nodes, 64))  # Random features"
   ]
  },
  {
   "cell_type": "code",
   "execution_count": 5,
   "id": "3b71d23e",
   "metadata": {
    "execution": {
     "iopub.execute_input": "2025-05-24T04:06:47.215207Z",
     "iopub.status.busy": "2025-05-24T04:06:47.214947Z",
     "iopub.status.idle": "2025-05-24T04:07:24.526792Z",
     "shell.execute_reply": "2025-05-24T04:07:24.526208Z"
    },
    "papermill": {
     "duration": 37.317886,
     "end_time": "2025-05-24T04:07:24.528319",
     "exception": false,
     "start_time": "2025-05-24T04:06:47.210433",
     "status": "completed"
    },
    "tags": []
   },
   "outputs": [
    {
     "name": "stderr",
     "output_type": "stream",
     "text": [
      "/usr/local/lib/python3.11/dist-packages/torch_geometric/deprecation.py:26: UserWarning: 'train_test_split_edges' is deprecated, use 'transforms.RandomLinkSplit' instead\n",
      "  warnings.warn(out)\n"
     ]
    }
   ],
   "source": [
    "# Tạo graph & chia train/val/test\n",
    "data = Data(x=x, edge_index=edge_index)\n",
    "data.train_mask = data.val_mask = data.test_mask = None\n",
    "data = train_test_split_edges(data)\n",
    "\n",
    "device = torch.device('cuda' if torch.cuda.is_available() else 'cpu')"
   ]
  },
  {
   "cell_type": "markdown",
   "id": "236e66a9",
   "metadata": {
    "papermill": {
     "duration": 0.003723,
     "end_time": "2025-05-24T04:07:24.536469",
     "exception": false,
     "start_time": "2025-05-24T04:07:24.532746",
     "status": "completed"
    },
    "tags": []
   },
   "source": [
    "# GraphSAGE ===================== "
   ]
  },
  {
   "cell_type": "code",
   "execution_count": 6,
   "id": "1a3ab4a0",
   "metadata": {
    "execution": {
     "iopub.execute_input": "2025-05-24T04:07:24.545304Z",
     "iopub.status.busy": "2025-05-24T04:07:24.544633Z",
     "iopub.status.idle": "2025-05-24T04:07:24.548912Z",
     "shell.execute_reply": "2025-05-24T04:07:24.548431Z"
    },
    "papermill": {
     "duration": 0.009727,
     "end_time": "2025-05-24T04:07:24.549943",
     "exception": false,
     "start_time": "2025-05-24T04:07:24.540216",
     "status": "completed"
    },
    "tags": []
   },
   "outputs": [],
   "source": [
    "class UnsupervisedGraphSAGE(torch.nn.Module):\n",
    "    def __init__(self, in_channels, hidden_channels, out_channels):\n",
    "        super().__init__()\n",
    "        self.conv1 = SAGEConv(in_channels, hidden_channels)\n",
    "        self.conv2 = SAGEConv(hidden_channels, out_channels)\n",
    "\n",
    "    def forward(self, x, edge_index):\n",
    "        x = self.conv1(x, edge_index)\n",
    "        x = F.relu(x)\n",
    "        x = self.conv2(x, edge_index)\n",
    "        return x"
   ]
  },
  {
   "cell_type": "code",
   "execution_count": 7,
   "id": "22c475ce",
   "metadata": {
    "execution": {
     "iopub.execute_input": "2025-05-24T04:07:24.559027Z",
     "iopub.status.busy": "2025-05-24T04:07:24.558669Z",
     "iopub.status.idle": "2025-05-24T04:07:24.562949Z",
     "shell.execute_reply": "2025-05-24T04:07:24.562479Z"
    },
    "papermill": {
     "duration": 0.010004,
     "end_time": "2025-05-24T04:07:24.563936",
     "exception": false,
     "start_time": "2025-05-24T04:07:24.553932",
     "status": "completed"
    },
    "tags": []
   },
   "outputs": [],
   "source": [
    "class EarlyStopping:\n",
    "    def __init__(self, patience=10, delta=0.0):\n",
    "        self.patience = patience\n",
    "        self.delta = delta\n",
    "        self.best_loss = float('inf')\n",
    "        self.counter = 0\n",
    "        self.early_stop = False\n",
    "\n",
    "    def __call__(self, current_loss):\n",
    "        if current_loss < self.best_loss - self.delta:\n",
    "            self.best_loss = current_loss\n",
    "            self.counter = 0\n",
    "        else:\n",
    "            self.counter += 1\n",
    "            if self.counter >= self.patience:\n",
    "                self.early_stop = True\n"
   ]
  },
  {
   "cell_type": "code",
   "execution_count": 8,
   "id": "8063cd34",
   "metadata": {
    "execution": {
     "iopub.execute_input": "2025-05-24T04:07:24.572749Z",
     "iopub.status.busy": "2025-05-24T04:07:24.572372Z",
     "iopub.status.idle": "2025-05-24T04:07:24.576325Z",
     "shell.execute_reply": "2025-05-24T04:07:24.575768Z"
    },
    "papermill": {
     "duration": 0.009452,
     "end_time": "2025-05-24T04:07:24.577422",
     "exception": false,
     "start_time": "2025-05-24T04:07:24.567970",
     "status": "completed"
    },
    "tags": []
   },
   "outputs": [],
   "source": [
    "def unsupervised_loss(z, pos_edge_index, neg_edge_index):\n",
    "    pos_loss = -F.logsigmoid((z[pos_edge_index[0]] * z[pos_edge_index[1]]).sum(dim=1)).mean()\n",
    "    neg_loss = -F.logsigmoid(-(z[neg_edge_index[0]] * z[neg_edge_index[1]]).sum(dim=1)).mean()\n",
    "    return pos_loss + neg_loss"
   ]
  },
  {
   "cell_type": "code",
   "execution_count": 9,
   "id": "4010784e",
   "metadata": {
    "execution": {
     "iopub.execute_input": "2025-05-24T04:07:24.586028Z",
     "iopub.status.busy": "2025-05-24T04:07:24.585819Z",
     "iopub.status.idle": "2025-05-24T04:07:24.589752Z",
     "shell.execute_reply": "2025-05-24T04:07:24.589293Z"
    },
    "papermill": {
     "duration": 0.009257,
     "end_time": "2025-05-24T04:07:24.590681",
     "exception": false,
     "start_time": "2025-05-24T04:07:24.581424",
     "status": "completed"
    },
    "tags": []
   },
   "outputs": [],
   "source": [
    "def contrastive_loss(z, pos_edge_index, neg_edge_index, margin=1.0):\n",
    "    def cosine_dist(a, b):\n",
    "        return 1 - F.cosine_similarity(a, b)\n",
    "    pos_dist = cosine_dist(z[pos_edge_index[0]], z[pos_edge_index[1]])\n",
    "    neg_dist = cosine_dist(z[neg_edge_index[0]], z[neg_edge_index[1]])\n",
    "    return (pos_dist**2).mean() + (F.relu(margin - neg_dist)**2).mean()\n"
   ]
  },
  {
   "cell_type": "code",
   "execution_count": 10,
   "id": "4825956a",
   "metadata": {
    "execution": {
     "iopub.execute_input": "2025-05-24T04:07:24.599018Z",
     "iopub.status.busy": "2025-05-24T04:07:24.598852Z",
     "iopub.status.idle": "2025-05-24T04:07:24.602847Z",
     "shell.execute_reply": "2025-05-24T04:07:24.602208Z"
    },
    "papermill": {
     "duration": 0.009304,
     "end_time": "2025-05-24T04:07:24.603856",
     "exception": false,
     "start_time": "2025-05-24T04:07:24.594552",
     "status": "completed"
    },
    "tags": []
   },
   "outputs": [],
   "source": [
    "def info_nce_loss(z, pos_edge_index, temperature=0.5):\n",
    "    sim = torch.mm(z, z.t()) / temperature\n",
    "    sim_exp = torch.exp(sim)\n",
    "\n",
    "    pos_sim = torch.exp((z[pos_edge_index[0]] * z[pos_edge_index[1]]).sum(dim=1) / temperature)\n",
    "    denom = sim_exp.sum(dim=1)[pos_edge_index[0]]\n",
    "    return -torch.log(pos_sim / denom).mean()\n"
   ]
  },
  {
   "cell_type": "markdown",
   "id": "24a8be20",
   "metadata": {
    "papermill": {
     "duration": 0.00414,
     "end_time": "2025-05-24T04:07:24.611816",
     "exception": false,
     "start_time": "2025-05-24T04:07:24.607676",
     "status": "completed"
    },
    "tags": []
   },
   "source": [
    "# Training ======================="
   ]
  },
  {
   "cell_type": "code",
   "execution_count": 11,
   "id": "7d2df99b",
   "metadata": {
    "execution": {
     "iopub.execute_input": "2025-05-24T04:07:24.620060Z",
     "iopub.status.busy": "2025-05-24T04:07:24.619888Z",
     "iopub.status.idle": "2025-05-24T04:07:25.028879Z",
     "shell.execute_reply": "2025-05-24T04:07:25.028309Z"
    },
    "papermill": {
     "duration": 0.414752,
     "end_time": "2025-05-24T04:07:25.030383",
     "exception": false,
     "start_time": "2025-05-24T04:07:24.615631",
     "status": "completed"
    },
    "tags": []
   },
   "outputs": [
    {
     "name": "stdout",
     "output_type": "stream",
     "text": [
      "Data(x=[27770, 64], val_pos_edge_index=[2, 5221], test_pos_edge_index=[2, 10443], train_pos_edge_index=[2, 177542], train_neg_adj_mask=[27770, 27770], val_neg_edge_index=[2, 5221], test_neg_edge_index=[2, 10443])\n"
     ]
    }
   ],
   "source": [
    "print(data)\n",
    "data = data.to(device)\n"
   ]
  },
  {
   "cell_type": "code",
   "execution_count": 12,
   "id": "2b5bde23",
   "metadata": {
    "execution": {
     "iopub.execute_input": "2025-05-24T04:07:25.039961Z",
     "iopub.status.busy": "2025-05-24T04:07:25.039530Z",
     "iopub.status.idle": "2025-05-24T04:08:02.631027Z",
     "shell.execute_reply": "2025-05-24T04:08:02.630116Z"
    },
    "papermill": {
     "duration": 37.597565,
     "end_time": "2025-05-24T04:08:02.632369",
     "exception": false,
     "start_time": "2025-05-24T04:07:25.034804",
     "status": "completed"
    },
    "tags": []
   },
   "outputs": [
    {
     "name": "stdout",
     "output_type": "stream",
     "text": [
      "[Epoch 001] Loss: 3.9492 | LR: 0.001000\n",
      "[Epoch 002] Loss: 2.4804 | LR: 0.001000\n",
      "[Epoch 003] Loss: 1.7942 | LR: 0.001000\n",
      "[Epoch 004] Loss: 1.5641 | LR: 0.001000\n",
      "[Epoch 005] Loss: 1.4935 | LR: 0.001000\n",
      "[Epoch 006] Loss: 1.4713 | LR: 0.001000\n",
      "[Epoch 007] Loss: 1.4852 | LR: 0.001000\n",
      "[Epoch 008] Loss: 1.5008 | LR: 0.001000\n",
      "[Epoch 009] Loss: 1.5143 | LR: 0.001000\n",
      "[Epoch 010] Loss: 1.5047 | LR: 0.001000\n",
      "[Epoch 011] Loss: 1.4894 | LR: 0.001000\n",
      "[Epoch 012] Loss: 1.4697 | LR: 0.001000\n",
      "[Epoch 013] Loss: 1.4472 | LR: 0.001000\n",
      "[Epoch 014] Loss: 1.4269 | LR: 0.001000\n",
      "[Epoch 015] Loss: 1.4070 | LR: 0.001000\n",
      "[Epoch 016] Loss: 1.3883 | LR: 0.001000\n",
      "[Epoch 017] Loss: 1.3676 | LR: 0.001000\n",
      "[Epoch 018] Loss: 1.3489 | LR: 0.001000\n",
      "[Epoch 019] Loss: 1.3286 | LR: 0.001000\n",
      "[Epoch 020] Loss: 1.3166 | LR: 0.001000\n",
      "[Epoch 021] Loss: 1.3008 | LR: 0.001000\n",
      "[Epoch 022] Loss: 1.2883 | LR: 0.001000\n",
      "[Epoch 023] Loss: 1.2738 | LR: 0.001000\n",
      "[Epoch 024] Loss: 1.2630 | LR: 0.001000\n",
      "[Epoch 025] Loss: 1.2472 | LR: 0.001000\n",
      "[Epoch 026] Loss: 1.2374 | LR: 0.001000\n",
      "[Epoch 027] Loss: 1.2249 | LR: 0.001000\n",
      "[Epoch 028] Loss: 1.2178 | LR: 0.001000\n",
      "[Epoch 029] Loss: 1.2088 | LR: 0.001000\n",
      "[Epoch 030] Loss: 1.1999 | LR: 0.001000\n",
      "[Epoch 031] Loss: 1.1929 | LR: 0.001000\n",
      "[Epoch 032] Loss: 1.1863 | LR: 0.001000\n",
      "[Epoch 033] Loss: 1.1799 | LR: 0.001000\n",
      "[Epoch 034] Loss: 1.1727 | LR: 0.001000\n",
      "[Epoch 035] Loss: 1.1671 | LR: 0.001000\n",
      "[Epoch 036] Loss: 1.1596 | LR: 0.001000\n",
      "[Epoch 037] Loss: 1.1561 | LR: 0.001000\n",
      "[Epoch 038] Loss: 1.1513 | LR: 0.001000\n",
      "[Epoch 039] Loss: 1.1460 | LR: 0.001000\n",
      "[Epoch 040] Loss: 1.1399 | LR: 0.001000\n",
      "[Epoch 041] Loss: 1.1369 | LR: 0.001000\n",
      "[Epoch 042] Loss: 1.1330 | LR: 0.001000\n",
      "[Epoch 043] Loss: 1.1272 | LR: 0.001000\n",
      "[Epoch 044] Loss: 1.1234 | LR: 0.001000\n",
      "[Epoch 045] Loss: 1.1228 | LR: 0.001000\n",
      "[Epoch 046] Loss: 1.1194 | LR: 0.001000\n",
      "[Epoch 047] Loss: 1.1133 | LR: 0.001000\n",
      "[Epoch 048] Loss: 1.1099 | LR: 0.001000\n",
      "[Epoch 049] Loss: 1.1086 | LR: 0.001000\n",
      "[Epoch 050] Loss: 1.1052 | LR: 0.000500\n",
      "[Epoch 051] Loss: 1.1020 | LR: 0.000500\n",
      "[Epoch 052] Loss: 1.0997 | LR: 0.000500\n",
      "[Epoch 053] Loss: 1.0993 | LR: 0.000500\n",
      "[Epoch 054] Loss: 1.0966 | LR: 0.000500\n",
      "[Epoch 055] Loss: 1.0965 | LR: 0.000500\n",
      "[Epoch 056] Loss: 1.0947 | LR: 0.000500\n",
      "[Epoch 057] Loss: 1.0908 | LR: 0.000500\n",
      "[Epoch 058] Loss: 1.0897 | LR: 0.000500\n",
      "[Epoch 059] Loss: 1.0888 | LR: 0.000500\n",
      "[Epoch 060] Loss: 1.0884 | LR: 0.000500\n",
      "[Epoch 061] Loss: 1.0861 | LR: 0.000500\n",
      "[Epoch 062] Loss: 1.0841 | LR: 0.000500\n",
      "[Epoch 063] Loss: 1.0827 | LR: 0.000500\n",
      "[Epoch 064] Loss: 1.0808 | LR: 0.000500\n",
      "[Epoch 065] Loss: 1.0823 | LR: 0.000500\n",
      "[Epoch 066] Loss: 1.0792 | LR: 0.000500\n",
      "[Epoch 067] Loss: 1.0768 | LR: 0.000500\n",
      "[Epoch 068] Loss: 1.0746 | LR: 0.000500\n",
      "[Epoch 069] Loss: 1.0732 | LR: 0.000500\n",
      "[Epoch 070] Loss: 1.0719 | LR: 0.000500\n",
      "[Epoch 071] Loss: 1.0725 | LR: 0.000500\n",
      "[Epoch 072] Loss: 1.0699 | LR: 0.000500\n",
      "[Epoch 073] Loss: 1.0701 | LR: 0.000500\n",
      "[Epoch 074] Loss: 1.0658 | LR: 0.000500\n",
      "[Epoch 075] Loss: 1.0659 | LR: 0.000500\n",
      "[Epoch 076] Loss: 1.0658 | LR: 0.000500\n",
      "[Epoch 077] Loss: 1.0637 | LR: 0.000500\n",
      "[Epoch 078] Loss: 1.0600 | LR: 0.000500\n",
      "[Epoch 079] Loss: 1.0617 | LR: 0.000500\n",
      "[Epoch 080] Loss: 1.0611 | LR: 0.000500\n",
      "[Epoch 081] Loss: 1.0572 | LR: 0.000500\n",
      "[Epoch 082] Loss: 1.0574 | LR: 0.000500\n",
      "[Epoch 083] Loss: 1.0542 | LR: 0.000500\n",
      "[Epoch 084] Loss: 1.0546 | LR: 0.000500\n",
      "[Epoch 085] Loss: 1.0506 | LR: 0.000500\n",
      "[Epoch 086] Loss: 1.0504 | LR: 0.000500\n",
      "[Epoch 087] Loss: 1.0495 | LR: 0.000500\n",
      "[Epoch 088] Loss: 1.0465 | LR: 0.000500\n",
      "[Epoch 089] Loss: 1.0462 | LR: 0.000500\n",
      "[Epoch 090] Loss: 1.0459 | LR: 0.000500\n",
      "[Epoch 091] Loss: 1.0430 | LR: 0.000500\n",
      "[Epoch 092] Loss: 1.0420 | LR: 0.000500\n",
      "[Epoch 093] Loss: 1.0405 | LR: 0.000500\n",
      "[Epoch 094] Loss: 1.0400 | LR: 0.000500\n",
      "[Epoch 095] Loss: 1.0392 | LR: 0.000500\n",
      "[Epoch 096] Loss: 1.0377 | LR: 0.000500\n",
      "[Epoch 097] Loss: 1.0363 | LR: 0.000500\n",
      "[Epoch 098] Loss: 1.0370 | LR: 0.000500\n",
      "[Epoch 099] Loss: 1.0335 | LR: 0.000500\n",
      "[Epoch 100] Loss: 1.0311 | LR: 0.000250\n",
      "[Epoch 101] Loss: 1.0340 | LR: 0.000250\n",
      "[Epoch 102] Loss: 1.0306 | LR: 0.000250\n",
      "[Epoch 103] Loss: 1.0287 | LR: 0.000250\n",
      "[Epoch 104] Loss: 1.0284 | LR: 0.000250\n",
      "[Epoch 105] Loss: 1.0282 | LR: 0.000250\n",
      "[Epoch 106] Loss: 1.0295 | LR: 0.000250\n",
      "[Epoch 107] Loss: 1.0262 | LR: 0.000250\n",
      "[Epoch 108] Loss: 1.0253 | LR: 0.000250\n",
      "[Epoch 109] Loss: 1.0258 | LR: 0.000250\n",
      "[Epoch 110] Loss: 1.0249 | LR: 0.000250\n",
      "[Epoch 111] Loss: 1.0236 | LR: 0.000250\n",
      "[Epoch 112] Loss: 1.0224 | LR: 0.000250\n",
      "[Epoch 113] Loss: 1.0213 | LR: 0.000250\n",
      "[Epoch 114] Loss: 1.0217 | LR: 0.000250\n",
      "[Epoch 115] Loss: 1.0210 | LR: 0.000250\n",
      "[Epoch 116] Loss: 1.0184 | LR: 0.000250\n",
      "[Epoch 117] Loss: 1.0202 | LR: 0.000250\n",
      "[Epoch 118] Loss: 1.0209 | LR: 0.000250\n",
      "[Epoch 119] Loss: 1.0202 | LR: 0.000250\n",
      "[Epoch 120] Loss: 1.0179 | LR: 0.000250\n",
      "[Epoch 121] Loss: 1.0202 | LR: 0.000250\n",
      "[Epoch 122] Loss: 1.0168 | LR: 0.000250\n",
      "[Epoch 123] Loss: 1.0173 | LR: 0.000250\n",
      "[Epoch 124] Loss: 1.0169 | LR: 0.000250\n",
      "[Epoch 125] Loss: 1.0144 | LR: 0.000250\n",
      "[Epoch 126] Loss: 1.0168 | LR: 0.000250\n",
      "[Epoch 127] Loss: 1.0135 | LR: 0.000250\n",
      "[Epoch 128] Loss: 1.0134 | LR: 0.000250\n",
      "[Epoch 129] Loss: 1.0132 | LR: 0.000250\n",
      "[Epoch 130] Loss: 1.0103 | LR: 0.000250\n",
      "[Epoch 131] Loss: 1.0113 | LR: 0.000250\n",
      "[Epoch 132] Loss: 1.0117 | LR: 0.000250\n",
      "[Epoch 133] Loss: 1.0115 | LR: 0.000250\n",
      "[Epoch 134] Loss: 1.0081 | LR: 0.000250\n",
      "[Epoch 135] Loss: 1.0083 | LR: 0.000250\n",
      "[Epoch 136] Loss: 1.0101 | LR: 0.000250\n",
      "[Epoch 137] Loss: 1.0078 | LR: 0.000250\n",
      "[Epoch 138] Loss: 1.0058 | LR: 0.000250\n",
      "[Epoch 139] Loss: 1.0060 | LR: 0.000250\n",
      "[Epoch 140] Loss: 1.0082 | LR: 0.000250\n",
      "[Epoch 141] Loss: 1.0051 | LR: 0.000250\n",
      "[Epoch 142] Loss: 1.0024 | LR: 0.000250\n",
      "[Epoch 143] Loss: 1.0023 | LR: 0.000250\n",
      "[Epoch 144] Loss: 1.0035 | LR: 0.000250\n",
      "[Epoch 145] Loss: 1.0035 | LR: 0.000250\n",
      "[Epoch 146] Loss: 1.0044 | LR: 0.000250\n",
      "[Epoch 147] Loss: 1.0017 | LR: 0.000250\n",
      "[Epoch 148] Loss: 1.0002 | LR: 0.000250\n",
      "[Epoch 149] Loss: 1.0001 | LR: 0.000250\n",
      "[Epoch 150] Loss: 0.9974 | LR: 0.000125\n",
      "[Epoch 151] Loss: 0.9977 | LR: 0.000125\n",
      "[Epoch 152] Loss: 0.9994 | LR: 0.000125\n",
      "[Epoch 153] Loss: 0.9985 | LR: 0.000125\n",
      "[Epoch 154] Loss: 0.9974 | LR: 0.000125\n",
      "[Epoch 155] Loss: 0.9984 | LR: 0.000125\n",
      "[Epoch 156] Loss: 0.9974 | LR: 0.000125\n",
      "[Epoch 157] Loss: 0.9969 | LR: 0.000125\n",
      "[Epoch 158] Loss: 0.9981 | LR: 0.000125\n",
      "[Epoch 159] Loss: 0.9951 | LR: 0.000125\n",
      "[Epoch 160] Loss: 0.9969 | LR: 0.000125\n",
      "[Epoch 161] Loss: 0.9956 | LR: 0.000125\n",
      "[Epoch 162] Loss: 0.9954 | LR: 0.000125\n",
      "[Epoch 163] Loss: 0.9942 | LR: 0.000125\n",
      "[Epoch 164] Loss: 0.9941 | LR: 0.000125\n",
      "[Epoch 165] Loss: 0.9946 | LR: 0.000125\n",
      "[Epoch 166] Loss: 0.9954 | LR: 0.000125\n",
      "[Epoch 167] Loss: 0.9936 | LR: 0.000125\n",
      "[Epoch 168] Loss: 0.9930 | LR: 0.000125\n",
      "[Epoch 169] Loss: 0.9907 | LR: 0.000125\n",
      "[Epoch 170] Loss: 0.9936 | LR: 0.000125\n",
      "[Epoch 171] Loss: 0.9931 | LR: 0.000125\n",
      "[Epoch 172] Loss: 0.9939 | LR: 0.000125\n",
      "[Epoch 173] Loss: 0.9909 | LR: 0.000125\n",
      "[Epoch 174] Loss: 0.9903 | LR: 0.000125\n",
      "[Epoch 175] Loss: 0.9932 | LR: 0.000125\n",
      "[Epoch 176] Loss: 0.9914 | LR: 0.000125\n",
      "[Epoch 177] Loss: 0.9905 | LR: 0.000125\n",
      "[Epoch 178] Loss: 0.9915 | LR: 0.000125\n",
      "[Epoch 179] Loss: 0.9902 | LR: 0.000125\n",
      "[Epoch 180] Loss: 0.9916 | LR: 0.000125\n",
      "[Epoch 181] Loss: 0.9916 | LR: 0.000125\n",
      "[Epoch 182] Loss: 0.9895 | LR: 0.000125\n",
      "[Epoch 183] Loss: 0.9887 | LR: 0.000125\n",
      "[Epoch 184] Loss: 0.9899 | LR: 0.000125\n",
      "[Epoch 185] Loss: 0.9893 | LR: 0.000125\n",
      "[Epoch 186] Loss: 0.9901 | LR: 0.000125\n",
      "[Epoch 187] Loss: 0.9855 | LR: 0.000125\n",
      "[Epoch 188] Loss: 0.9869 | LR: 0.000125\n",
      "[Epoch 189] Loss: 0.9887 | LR: 0.000125\n",
      "[Epoch 190] Loss: 0.9868 | LR: 0.000125\n",
      "[Epoch 191] Loss: 0.9876 | LR: 0.000125\n",
      "[Epoch 192] Loss: 0.9859 | LR: 0.000125\n",
      "[Epoch 193] Loss: 0.9871 | LR: 0.000125\n",
      "[Epoch 194] Loss: 0.9876 | LR: 0.000125\n",
      "[Epoch 195] Loss: 0.9881 | LR: 0.000125\n",
      "[Epoch 196] Loss: 0.9852 | LR: 0.000125\n",
      "[Epoch 197] Loss: 0.9859 | LR: 0.000125\n",
      "[Epoch 198] Loss: 0.9835 | LR: 0.000125\n",
      "[Epoch 199] Loss: 0.9852 | LR: 0.000125\n",
      "[Epoch 200] Loss: 0.9818 | LR: 0.000063\n",
      "[Epoch 201] Loss: 0.9834 | LR: 0.000063\n",
      "[Epoch 202] Loss: 0.9843 | LR: 0.000063\n",
      "[Epoch 203] Loss: 0.9829 | LR: 0.000063\n",
      "[Epoch 204] Loss: 0.9858 | LR: 0.000063\n",
      "[Epoch 205] Loss: 0.9830 | LR: 0.000063\n",
      "[Epoch 206] Loss: 0.9839 | LR: 0.000063\n",
      "[Epoch 207] Loss: 0.9817 | LR: 0.000063\n",
      "[Epoch 208] Loss: 0.9839 | LR: 0.000063\n",
      "[Epoch 209] Loss: 0.9815 | LR: 0.000063\n",
      "[Epoch 210] Loss: 0.9813 | LR: 0.000063\n",
      "[Epoch 211] Loss: 0.9801 | LR: 0.000063\n",
      "[Epoch 212] Loss: 0.9820 | LR: 0.000063\n",
      "[Epoch 213] Loss: 0.9802 | LR: 0.000063\n",
      "[Epoch 214] Loss: 0.9829 | LR: 0.000063\n",
      "[Epoch 215] Loss: 0.9808 | LR: 0.000063\n",
      "[Epoch 216] Loss: 0.9827 | LR: 0.000063\n",
      "[Epoch 217] Loss: 0.9816 | LR: 0.000063\n",
      "[Epoch 218] Loss: 0.9804 | LR: 0.000063\n",
      "[Epoch 219] Loss: 0.9803 | LR: 0.000063\n",
      "[Epoch 220] Loss: 0.9832 | LR: 0.000063\n",
      "[Epoch 221] Loss: 0.9811 | LR: 0.000063\n",
      "Early stopping at epoch 221\n"
     ]
    }
   ],
   "source": [
    "model = UnsupervisedGraphSAGE(64, 128, 128).to(device)\n",
    "optimizer = torch.optim.Adam(model.parameters(), lr=0.001)\n",
    "\n",
    "from torch.optim.lr_scheduler import StepLR\n",
    "\n",
    "# Khởi tạo\n",
    "model = UnsupervisedGraphSAGE(64, 128, 128).to(device)\n",
    "optimizer = torch.optim.Adam(model.parameters(), lr=0.001)\n",
    "scheduler = StepLR(optimizer, step_size=50, gamma=0.5)  # giảm lr mỗi 50 epochs\n",
    "early_stopper = EarlyStopping(patience=10)\n",
    "\n",
    "for epoch in range(1, 301):\n",
    "    model.train()\n",
    "    optimizer.zero_grad()\n",
    "    \n",
    "    z = model(data.x, data.train_pos_edge_index)  # Sử dụng train_pos_edge_index\n",
    "\n",
    "    # Sinh negative edges\n",
    "    neg_edge_index = negative_sampling(\n",
    "        edge_index=data.train_pos_edge_index, \n",
    "        num_nodes=data.num_nodes\n",
    "    ).to(device)\n",
    "\n",
    "    loss = unsupervised_loss(z, data.train_pos_edge_index, neg_edge_index)\n",
    "\n",
    "    loss.backward()\n",
    "    optimizer.step()\n",
    "    scheduler.step()\n",
    "\n",
    "    print(f\"[Epoch {epoch:03d}] Loss: {loss.item():.4f} | LR: {scheduler.get_last_lr()[0]:.6f}\")\n",
    "\n",
    "    early_stopper(loss.item())\n",
    "    if early_stopper.early_stop:\n",
    "        print(f\"Early stopping at epoch {epoch}\")\n",
    "        break\n",
    "\n"
   ]
  },
  {
   "cell_type": "markdown",
   "id": "ee2157bd",
   "metadata": {
    "papermill": {
     "duration": 0.007872,
     "end_time": "2025-05-24T04:08:02.648832",
     "exception": false,
     "start_time": "2025-05-24T04:08:02.640960",
     "status": "completed"
    },
    "tags": []
   },
   "source": [
    "# Evaluation ======================="
   ]
  },
  {
   "cell_type": "code",
   "execution_count": 13,
   "id": "fde84a5f",
   "metadata": {
    "execution": {
     "iopub.execute_input": "2025-05-24T04:08:02.665420Z",
     "iopub.status.busy": "2025-05-24T04:08:02.665126Z",
     "iopub.status.idle": "2025-05-24T04:08:02.694206Z",
     "shell.execute_reply": "2025-05-24T04:08:02.693384Z"
    },
    "papermill": {
     "duration": 0.038671,
     "end_time": "2025-05-24T04:08:02.695327",
     "exception": false,
     "start_time": "2025-05-24T04:08:02.656656",
     "status": "completed"
    },
    "tags": []
   },
   "outputs": [
    {
     "name": "stdout",
     "output_type": "stream",
     "text": [
      "[Evaluation] ROC AUC: 0.8121 | Average Precision: 0.7908\n"
     ]
    }
   ],
   "source": [
    "@torch.no_grad()\n",
    "def evaluate_link_prediction(z, pos_edge_index, neg_edge_index):\n",
    "    pos_scores = (z[pos_edge_index[0]] * z[pos_edge_index[1]]).sum(dim=1).cpu().numpy()\n",
    "    neg_scores = (z[neg_edge_index[0]] * z[neg_edge_index[1]]).sum(dim=1).cpu().numpy()\n",
    "    y_true = np.hstack([np.ones(pos_scores.shape[0]), np.zeros(neg_scores.shape[0])])\n",
    "    y_scores = np.hstack([pos_scores, neg_scores])\n",
    "    auc = roc_auc_score(y_true, y_scores)\n",
    "    ap = average_precision_score(y_true, y_scores)\n",
    "    return auc, ap\n",
    "\n",
    "model.eval()\n",
    "with torch.no_grad():\n",
    "    z = model(data.x.to(device), data.train_pos_edge_index.to(device))\n",
    "\n",
    "auc, ap = evaluate_link_prediction(z, data.test_pos_edge_index, data.test_neg_edge_index)\n",
    "print(f\"[Evaluation] ROC AUC: {auc:.4f} | Average Precision: {ap:.4f}\")"
   ]
  },
  {
   "cell_type": "markdown",
   "id": "27407310",
   "metadata": {
    "papermill": {
     "duration": 0.007734,
     "end_time": "2025-05-24T04:08:02.711484",
     "exception": false,
     "start_time": "2025-05-24T04:08:02.703750",
     "status": "completed"
    },
    "tags": []
   },
   "source": [
    "# Save Model ======================="
   ]
  },
  {
   "cell_type": "code",
   "execution_count": 14,
   "id": "f0696201",
   "metadata": {
    "execution": {
     "iopub.execute_input": "2025-05-24T04:08:02.727845Z",
     "iopub.status.busy": "2025-05-24T04:08:02.727629Z",
     "iopub.status.idle": "2025-05-24T04:08:06.085504Z",
     "shell.execute_reply": "2025-05-24T04:08:06.084574Z"
    },
    "papermill": {
     "duration": 3.367453,
     "end_time": "2025-05-24T04:08:06.086727",
     "exception": false,
     "start_time": "2025-05-24T04:08:02.719274",
     "status": "completed"
    },
    "tags": []
   },
   "outputs": [
    {
     "name": "stdout",
     "output_type": "stream",
     "text": [
      "Embedding saved to graphsage_embeddings.csv\n",
      "Model saved to graphsage_model.pt\n"
     ]
    }
   ],
   "source": [
    "z_np = z.cpu().numpy()\n",
    "\n",
    "try:\n",
    "    df = pd.DataFrame(z_np, index=list(node_id_map.keys()))\n",
    "except NameError:\n",
    "    df = pd.DataFrame(z_np)\n",
    "df.index.name = \"node_id\"\n",
    "df.to_csv(\"graphsage_embeddings.csv\")\n",
    "print(\"Embedding saved to graphsage_embeddings.csv\")\n",
    "\n",
    "# ==== Save Model ====\n",
    "torch.save(model.state_dict(), \"graphsage_model.pt\")\n",
    "print(\"Model saved to graphsage_model.pt\")"
   ]
  },
  {
   "cell_type": "code",
   "execution_count": null,
   "id": "782d47ca",
   "metadata": {
    "papermill": {
     "duration": 0.007898,
     "end_time": "2025-05-24T04:08:06.103616",
     "exception": false,
     "start_time": "2025-05-24T04:08:06.095718",
     "status": "completed"
    },
    "tags": []
   },
   "outputs": [],
   "source": []
  }
 ],
 "metadata": {
  "kaggle": {
   "accelerator": "nvidiaTeslaT4",
   "dataSources": [
    {
     "datasetId": 7345563,
     "sourceId": 11702720,
     "sourceType": "datasetVersion"
    }
   ],
   "dockerImageVersionId": 31012,
   "isGpuEnabled": true,
   "isInternetEnabled": true,
   "language": "python",
   "sourceType": "notebook"
  },
  "kernelspec": {
   "display_name": "Python 3",
   "language": "python",
   "name": "python3"
  },
  "language_info": {
   "codemirror_mode": {
    "name": "ipython",
    "version": 3
   },
   "file_extension": ".py",
   "mimetype": "text/x-python",
   "name": "python",
   "nbconvert_exporter": "python",
   "pygments_lexer": "ipython3",
   "version": "3.11.11"
  },
  "papermill": {
   "default_parameters": {},
   "duration": 109.240462,
   "end_time": "2025-05-24T04:08:08.852965",
   "environment_variables": {},
   "exception": null,
   "input_path": "__notebook__.ipynb",
   "output_path": "__notebook__.ipynb",
   "parameters": {},
   "start_time": "2025-05-24T04:06:19.612503",
   "version": "2.6.0"
  }
 },
 "nbformat": 4,
 "nbformat_minor": 5
}
